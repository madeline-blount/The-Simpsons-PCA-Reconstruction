{
 "cells": [
  {
   "cell_type": "markdown",
   "id": "90840cbd-8abc-4349-84a3-3d65d064dfe7",
   "metadata": {},
   "source": [
    "Data Source: https://www.kaggle.com/datasets/kostastokis/simpsons-faces"
   ]
  },
  {
   "cell_type": "markdown",
   "id": "4bec0f0f-24cf-42df-af16-9a907e62c38e",
   "metadata": {},
   "source": [
    "Instructions for Project TALK:\n",
    "Introduction and Motivation  -- What were you trying to do  and WHY?\n",
    "  - For full points clearly state the problem and why it is important. (approx 2 points)\n",
    "\n",
    "Related work -- Mention any related work from our class readings or from other literature.\n",
    "This can be something as general as discussing generalization/overfitting or whether you are using parametric or non-parametric methods …. (You do not have to use the methods taught in class. You do not have to do unsupervised learning).\n",
    "For full credit also mention a paper in the literature that addresses this problem\n",
    "(or if there is nothing like it in the literature make the case for why your problem is unique). (approx 2 points)  \n",
    "\n",
    "Methods - What did you do?  Be as precise as you can.   For full credit there should be enough detail for someone relatively skilled to replicate your work.  (approx 7 points)\n",
    "\n",
    "Results - What did you discover? How well did it work?  As this is a class project, it is likely that many things did not work as well as planned.  For this project, detailing what went wrong is as important as describing what went well.  (approx 7 points)\n",
    "\n",
    "Discussion - What did you learn?  What could you do better? (What would you\n",
    "have done next if you had more time)?.....  Why do you think it didn't work if it didn't?  \n",
    "If everything worked perfectly,  what next steps would you suggest for follow-up work.  For full credit discuss two extensions or improvements to your project with short justifications for why you think that would work better (improvements) or why they are promising extensions. (approx 7 points) \n",
    "\n",
    "Grading Scheme/Main Goals:\n",
    "We are looking for (so try to show in your presentation:\n",
    "1) Do you know why you are doing the project?\n",
    "2) Can you relate it to work from the class? (again this can be general concepts)\n",
    "3) How hard was what you did/tried to do?  \n",
    "      (here we recognize that some projects were hard just to get the data recorded in useable form, whereas for others that is not an issue)\n",
    "4) What did you learn?\n",
    "5) How much work did you do? \n",
    "      (also here we recognize that some projects were hard just to get/clean the data)\n",
    " Also here there might be consideration for how many people were in the group though we recognize that 3 person groups can't do 3 times the work, they should do more work than one person)\n",
    "6) Can you clearly present the motivation and what you did/tried to do to the class?\n",
    "7) Did you get something to work (this is a bonus -- not required)?\n",
    "8) Did you think deeply about the results or about problems with the algorithm? (i.e. Did you do more than just run an algorithm - but did you do a sanity check that the data/algorithm is as you expected/reasonable….)\n",
    "10) Are you aware of the strengths and limitations of your approach/algorithm?\n",
    "11) How much do you understand about the problem, algorithm, and/or approach?\n",
    "12) In general the group will receive the same grade unless the individual contribution reports reveal that this would not be appropriate.\n"
   ]
  },
  {
   "cell_type": "code",
   "execution_count": null,
   "id": "235c9e51-73aa-4b0d-8c77-bfad7b098539",
   "metadata": {},
   "outputs": [],
   "source": []
  }
 ],
 "metadata": {
  "kernelspec": {
   "display_name": "Python 3 (ipykernel)",
   "language": "python",
   "name": "python3"
  },
  "language_info": {
   "codemirror_mode": {
    "name": "ipython",
    "version": 3
   },
   "file_extension": ".py",
   "mimetype": "text/x-python",
   "name": "python",
   "nbconvert_exporter": "python",
   "pygments_lexer": "ipython3",
   "version": "3.11.9"
  }
 },
 "nbformat": 4,
 "nbformat_minor": 5
}
