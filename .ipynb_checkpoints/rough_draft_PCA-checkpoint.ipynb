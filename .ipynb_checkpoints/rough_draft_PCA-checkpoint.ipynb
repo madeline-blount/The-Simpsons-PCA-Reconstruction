{
 "cells": [
  {
   "cell_type": "markdown",
   "metadata": {},
   "source": [
    "**Data Wrangling**\n"
   ]
  },
  {
   "cell_type": "markdown",
   "metadata": {},
   "source": [
    "## PCA Code"
   ]
  },
  {
   "cell_type": "code",
   "execution_count": 2,
   "metadata": {},
   "outputs": [],
   "source": [
    "# import packages\n",
    "import numpy as np\n",
    "import scipy.io as sio\n",
    "import matplotlib\n",
    "import matplotlib.pyplot as plt\n",
    "from numpy.matlib import repmat\n",
    "from sklearn.preprocessing import normalize"
   ]
  },
  {
   "cell_type": "markdown",
   "metadata": {},
   "source": [
    "The following code wrangles the images, turning them into arrays, and loads them in as a dataset, simpsons_df, so that we can work with it in our project."
   ]
  },
  {
   "cell_type": "code",
   "execution_count": 3,
   "metadata": {},
   "outputs": [
    {
     "name": "stdout",
     "output_type": "stream",
     "text": [
      "Dataset shape: (9877, 10000)\n"
     ]
    }
   ],
   "source": [
    "# import dataset\n",
    "\n",
    "# import additional packages to process images as dataset\n",
    "import os\n",
    "from PIL import Image\n",
    "\n",
    "# wrangle images and transform into arrays\n",
    "def load_images_from_folder(folder_path, target_size=(200, 200)):\n",
    "    images = []\n",
    "    for filename in os.listdir(folder_path):\n",
    "        file_path = os.path.join(folder_path, filename)\n",
    "        try:\n",
    "            # Load image\n",
    "            img = Image.open(file_path).convert('L')  # Convert to grayscale\n",
    "            img = img.resize(target_size)  # Resize to target size\n",
    "            images.append(np.array(img).flatten())  # Flatten to 1D array\n",
    "        except Exception as e:\n",
    "            print(f\"Error loading image {filename}: {e}\")\n",
    "    return np.array(images)\n",
    "\n",
    "# Load dataset\n",
    "folder_path = \"simpsons_faces_kostastokis/cropped\"\n",
    "simpsons_df = load_images_from_folder(folder_path, target_size=(100,100))\n",
    "\n",
    "# Check the shape of the dataset\n",
    "print(f\"Dataset shape: {simpsons_df.shape}\")\n",
    "\n"
   ]
  },
  {
   "cell_type": "code",
   "execution_count": 4,
   "metadata": {},
   "outputs": [],
   "source": [
    "def viewcolumn(columnvector):\n",
    "    # viewcolumn(columnvector);\n",
    "    # VIEWCOLUMN Displays a 60 x 60 grayscale image stored in a column vector.\n",
    "    # Tim Marks 2002\n",
    "    plt.imshow(columnvector, cmap=plt.get_cmap('gray'))\n",
    "    plt.title(\"Mean Image\")\n",
    "    plt.axis('off')\n",
    "    plt.show()\n",
    "    \n",
    "\n",
    "def normc(Mat):\n",
    "    # normc(M) normalizes the columns of M to a length of 1.\n",
    "    return normalize(Mat, norm='l2', axis=0)"
   ]
  },
  {
   "cell_type": "markdown",
   "metadata": {},
   "source": [
    "Compute & Display Mean Face:"
   ]
  },
  {
   "cell_type": "code",
   "execution_count": 5,
   "metadata": {},
   "outputs": [
    {
     "data": {
      "image/png": "[encoded data removed]",
      "text/plain": [
       "<Figure size 640x480 with 1 Axes>"
      ]
     },
     "metadata": {},
     "output_type": "display_data"
    }
   ],
   "source": [
    "# find mean\n",
    "mean_simp = np.mean(simpsons_df, axis=0)\n",
    "\n",
    "# View a transformed version of mean\n",
    "\n",
    "mean_simp_view = mean_simp.reshape((100, 100), order=\"F\")\n",
    "viewcolumn(mean_simp_view)"
   ]
  },
  {
   "cell_type": "markdown",
   "metadata": {},
   "source": [
    "**PCA method #1**: Directly compute ATA and its eigenvectors"
   ]
  },
  {
   "cell_type": "code",
   "execution_count": null,
   "metadata": {},
   "outputs": [],
   "source": [
    "A = simpsons_df - mean_simp\n",
    "# Find eigenvectors & eigenvalues of ATA\n",
    "eigvals, V_old =np.linalg.eig(A.T.dot(A))\n",
    "# Sort the eigenvectors & eigenvalues from largest to smallest\n",
    "V, D = eigsort(V_old, eigvals)\n",
    "# calcualte the matrix of eigensimpsons, (the eigenvectors of AAT)\n",
    "U = A.dot(V)\n",
    "\n",
    "# normalize the columns of U (should all have length 1)\n",
    "U = normc(U)"
   ]
  },
  {
   "cell_type": "code",
   "execution_count": null,
   "metadata": {},
   "outputs": [],
   "source": [
    "# Check that A, U, V, & D are looking as expected\n",
    "\n",
    "# assert A.shape == \n",
    "# assert V.shape == \n",
    "# assert U.shape ... \n",
    "# check D, that diagonal matrix of eigenvalues are sorted from largest to smallest\n"
   ]
  },
  {
   "cell_type": "code",
   "execution_count": null,
   "metadata": {},
   "outputs": [],
   "source": [
    "# function to reconstruct desired simpson image\n",
    "\n",
    "def reconstruct_simp(i):\n",
    "    # find pricipal compoents of image\n",
    "    princ_comp = simpsons_df[i, :] - mean_simp\n",
    "    c = U.T.dot(princ_comp)\n",
    "    # reconstruct face using all principal components\n",
    "    Zhat = U.dot(c) + mean_simp\n",
    "    # reconstruct using just first 10 principal components\n",
    "    Zhat_2 = U[:,:10].dot(c[:10,]) + mean_simp\n",
    "\n",
    "    viewcolumn(Zhat.reshape((100,100), order='F'))\n",
    "    viewcolumn(Zhat_2.reshape((100,100), order='F'))\n"
   ]
  },
  {
   "cell_type": "markdown",
   "metadata": {},
   "source": [
    "I wrote the above code based on the code for HW4, but I think for our large dataset, as it was taking over an hour to run, and I did not even get to finish running it. We will need something more efficient, and something that only uses the most efficient/important principal components. Thus, maybe we discuss our understanding of above code, but ultimately have have to use a different method. "
   ]
  },
  {
   "cell_type": "markdown",
   "metadata": {},
   "source": [
    "**PCA method #2**: Singular Value Decomposition"
   ]
  },
  {
   "cell_type": "code",
   "execution_count": null,
   "metadata": {},
   "outputs": [],
   "source": [
    "A = simpsons_df - mean_simp\n",
    "\n",
    "# Use SVD tp represent reduced-dimension subspace using following components:\n",
    "    # U = left eigenvectors, \n",
    "    # S = sqrt of eigenvalues/diagonal values, \n",
    "    # Vt = transposed right singular vectors \n",
    "U, S, Vt = np.linalg.svd(A, full_matrices=False)\n",
    "\n",
    "# Specify to keep only 50 top princial components that contribute most variation\n",
    "k = 50\n",
    "# top 50 eigensimpsons\n",
    "Uk = U[:, :k]\n",
    "Sk = S[:k]\n",
    "Vtk = Vt[:k, :]\n",
    "\n",
    "# get the reduced representation\n",
    "Z = A.dot(Vtk.T)\n"
   ]
  },
  {
   "cell_type": "code",
   "execution_count": 8,
   "metadata": {},
   "outputs": [],
   "source": [
    "# code for reconstruction\n",
    "\n",
    "def reconstruct_simp_2(Z, i, Vtk, mean_simp):\n",
    "    reconstructed_simp = Z[i, :].dot(Vtk) + mean_simp\n",
    "    return reconstructed_simp"
   ]
  },
  {
   "cell_type": "code",
   "execution_count": 12,
   "metadata": {},
   "outputs": [
    {
     "data": {
      "image/png": "[encoded data removed]",
      "text/plain": [
       "<Figure size 640x480 with 1 Axes>"
      ]
     },
     "metadata": {},
     "output_type": "display_data"
    }
   ],
   "source": [
    "# test and vizualize reconstructionl\n",
    "\n",
    "reconstruct_first = reconstruct_simp_2(Z, 0, Vtk, mean_simp)\n",
    "reconstruct_first_view = reconstruct_first.reshape((100, 100), order=\"F\")\n",
    "viewcolumn(reconstruct_first_view)"
   ]
  },
  {
   "cell_type": "markdown",
   "metadata": {},
   "source": [
    "Code to perform reproduction:"
   ]
  },
  {
   "cell_type": "markdown",
   "metadata": {},
   "source": [
    "**Test: Reconstruct each PCA model, then measure distance between reconstruction and input**"
   ]
  },
  {
   "cell_type": "markdown",
   "metadata": {},
   "source": [
    "**Find & Discuss Lowest Distance**"
   ]
  },
  {
   "cell_type": "code",
   "execution_count": null,
   "metadata": {},
   "outputs": [],
   "source": []
  }
 ],
 "metadata": {
  "kernelspec": {
   "display_name": "base",
   "language": "python",
   "name": "python3"
  },
  "language_info": {
   "codemirror_mode": {
    "name": "ipython",
    "version": 3
   },
   "file_extension": ".py",
   "mimetype": "text/x-python",
   "name": "python",
   "nbconvert_exporter": "python",
   "pygments_lexer": "ipython3",
   "version": "3.11.7"
  }
 },
 "nbformat": 4,
 "nbformat_minor": 2
}
