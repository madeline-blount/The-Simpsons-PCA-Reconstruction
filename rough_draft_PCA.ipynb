{
 "cells": [
  {
   "cell_type": "markdown",
   "metadata": {},
   "source": [
    "**Data Wrangling**\n"
   ]
  },
  {
   "cell_type": "markdown",
   "metadata": {},
   "source": [
    "**PCA Code**"
   ]
  },
  {
   "cell_type": "code",
   "execution_count": 4,
   "metadata": {},
   "outputs": [],
   "source": [
    "# import packages\n",
    "import numpy as np\n",
    "import scipy.io as sio\n",
    "import matplotlib\n",
    "import matplotlib.pyplot as plt\n",
    "from numpy.matlib import repmat\n",
    "from sklearn.preprocessing import normalize"
   ]
  },
  {
   "cell_type": "markdown",
   "metadata": {},
   "source": [
    "The following code wrangles the images, turning them into arrays, and loads them in as a dataset, simpsons_df, so that we can work with it in our project."
   ]
  },
  {
   "cell_type": "code",
   "execution_count": 7,
   "metadata": {},
   "outputs": [
    {
     "name": "stdout",
     "output_type": "stream",
     "text": [
      "Dataset shape: (9877, 40000)\n"
     ]
    }
   ],
   "source": [
    "# import dataset\n",
    "\n",
    "# import additional packages to process images as dataset\n",
    "import os\n",
    "from PIL import Image\n",
    "\n",
    "# wrangle images and transform into arrays\n",
    "def load_images_from_folder(folder_path, target_size=(200, 200)):\n",
    "    images = []\n",
    "    for filename in os.listdir(folder_path):\n",
    "        file_path = os.path.join(folder_path, filename)\n",
    "        try:\n",
    "            # Load image\n",
    "            img = Image.open(file_path).convert('L')  # Convert to grayscale\n",
    "            img = img.resize(target_size)  # Resize to target size\n",
    "            images.append(np.array(img).flatten())  # Flatten to 1D array\n",
    "        except Exception as e:\n",
    "            print(f\"Error loading image {filename}: {e}\")\n",
    "    return np.array(images)\n",
    "\n",
    "# Load dataset\n",
    "folder_path = \"simpsons_faces_kostastokis/cropped\"\n",
    "simpsons_df = load_images_from_folder(folder_path)\n",
    "\n",
    "# Check the shape of the dataset\n",
    "print(f\"Dataset shape: {simpsons_df.shape}\")\n",
    "\n"
   ]
  },
  {
   "cell_type": "code",
   "execution_count": 8,
   "metadata": {},
   "outputs": [
    {
     "ename": "KeyboardInterrupt",
     "evalue": "",
     "output_type": "error",
     "traceback": [
      "\u001b[0;31m---------------------------------------------------------------------------\u001b[0m",
      "\u001b[0;31mKeyboardInterrupt\u001b[0m                         Traceback (most recent call last)",
      "Cell \u001b[0;32mIn[8], line 3\u001b[0m\n\u001b[1;32m      2\u001b[0m \u001b[38;5;66;03m# convert images into a 1D array\u001b[39;00m\n\u001b[0;32m----> 3\u001b[0m flattened_images \u001b[38;5;241m=\u001b[39m images\u001b[38;5;241m.\u001b[39mreshape(image\u001b[38;5;241m.\u001b[39mshape[\u001b[38;5;241m0\u001b[39m], \u001b[38;5;241m-\u001b[39m\u001b[38;5;241m1\u001b[39m)\n\u001b[1;32m      5\u001b[0m \u001b[38;5;66;03m# normalize the pixel values,\u001b[39;00m\n\u001b[1;32m      6\u001b[0m \u001b[38;5;66;03m#      to have a range of [0, 1],\u001b[39;00m\n\u001b[1;32m      7\u001b[0m \u001b[38;5;66;03m#      standardize to have mean of 0 and s.d. of 1\u001b[39;00m\n\u001b[1;32m      8\u001b[0m scaler \u001b[38;5;241m=\u001b[39m StandardScaler()\n",
      "Cell \u001b[0;32mIn[8], line 3\u001b[0m\n\u001b[1;32m      2\u001b[0m \u001b[38;5;66;03m# convert images into a 1D array\u001b[39;00m\n\u001b[0;32m----> 3\u001b[0m flattened_images \u001b[38;5;241m=\u001b[39m images\u001b[38;5;241m.\u001b[39mreshape(image\u001b[38;5;241m.\u001b[39mshape[\u001b[38;5;241m0\u001b[39m], \u001b[38;5;241m-\u001b[39m\u001b[38;5;241m1\u001b[39m)\n\u001b[1;32m      5\u001b[0m \u001b[38;5;66;03m# normalize the pixel values,\u001b[39;00m\n\u001b[1;32m      6\u001b[0m \u001b[38;5;66;03m#      to have a range of [0, 1],\u001b[39;00m\n\u001b[1;32m      7\u001b[0m \u001b[38;5;66;03m#      standardize to have mean of 0 and s.d. of 1\u001b[39;00m\n\u001b[1;32m      8\u001b[0m scaler \u001b[38;5;241m=\u001b[39m StandardScaler()\n",
      "File \u001b[0;32m_pydevd_bundle/pydevd_cython.pyx:1457\u001b[0m, in \u001b[0;36m_pydevd_bundle.pydevd_cython.SafeCallWrapper.__call__\u001b[0;34m()\u001b[0m\n",
      "File \u001b[0;32m_pydevd_bundle/pydevd_cython.pyx:701\u001b[0m, in \u001b[0;36m_pydevd_bundle.pydevd_cython.PyDBFrame.trace_dispatch\u001b[0;34m()\u001b[0m\n",
      "File \u001b[0;32m_pydevd_bundle/pydevd_cython.pyx:1152\u001b[0m, in \u001b[0;36m_pydevd_bundle.pydevd_cython.PyDBFrame.trace_dispatch\u001b[0;34m()\u001b[0m\n",
      "File \u001b[0;32m_pydevd_bundle/pydevd_cython.pyx:1135\u001b[0m, in \u001b[0;36m_pydevd_bundle.pydevd_cython.PyDBFrame.trace_dispatch\u001b[0;34m()\u001b[0m\n",
      "File \u001b[0;32m_pydevd_bundle/pydevd_cython.pyx:312\u001b[0m, in \u001b[0;36m_pydevd_bundle.pydevd_cython.PyDBFrame.do_wait_suspend\u001b[0;34m()\u001b[0m\n",
      "File \u001b[0;32m/opt/anaconda3/lib/python3.11/site-packages/debugpy/_vendored/pydevd/pydevd.py:2070\u001b[0m, in \u001b[0;36mPyDB.do_wait_suspend\u001b[0;34m(self, thread, frame, event, arg, exception_type)\u001b[0m\n\u001b[1;32m   2067\u001b[0m             from_this_thread\u001b[38;5;241m.\u001b[39mappend(frame_custom_thread_id)\n\u001b[1;32m   2069\u001b[0m     \u001b[38;5;28;01mwith\u001b[39;00m \u001b[38;5;28mself\u001b[39m\u001b[38;5;241m.\u001b[39m_threads_suspended_single_notification\u001b[38;5;241m.\u001b[39mnotify_thread_suspended(thread_id, thread, stop_reason):\n\u001b[0;32m-> 2070\u001b[0m         keep_suspended \u001b[38;5;241m=\u001b[39m \u001b[38;5;28mself\u001b[39m\u001b[38;5;241m.\u001b[39m_do_wait_suspend(thread, frame, event, arg, suspend_type, from_this_thread, frames_tracker)\n\u001b[1;32m   2072\u001b[0m frames_list \u001b[38;5;241m=\u001b[39m \u001b[38;5;28;01mNone\u001b[39;00m\n\u001b[1;32m   2074\u001b[0m \u001b[38;5;28;01mif\u001b[39;00m keep_suspended:\n\u001b[1;32m   2075\u001b[0m     \u001b[38;5;66;03m# This means that we should pause again after a set next statement.\u001b[39;00m\n",
      "File \u001b[0;32m/opt/anaconda3/lib/python3.11/site-packages/debugpy/_vendored/pydevd/pydevd.py:2106\u001b[0m, in \u001b[0;36mPyDB._do_wait_suspend\u001b[0;34m(self, thread, frame, event, arg, suspend_type, from_this_thread, frames_tracker)\u001b[0m\n\u001b[1;32m   2103\u001b[0m         \u001b[38;5;28mself\u001b[39m\u001b[38;5;241m.\u001b[39m_call_input_hook()\n\u001b[1;32m   2105\u001b[0m     \u001b[38;5;28mself\u001b[39m\u001b[38;5;241m.\u001b[39mprocess_internal_commands()\n\u001b[0;32m-> 2106\u001b[0m     time\u001b[38;5;241m.\u001b[39msleep(\u001b[38;5;241m0.01\u001b[39m)\n\u001b[1;32m   2108\u001b[0m \u001b[38;5;28mself\u001b[39m\u001b[38;5;241m.\u001b[39mcancel_async_evaluation(get_current_thread_id(thread), \u001b[38;5;28mstr\u001b[39m(\u001b[38;5;28mid\u001b[39m(frame)))\n\u001b[1;32m   2110\u001b[0m \u001b[38;5;66;03m# process any stepping instructions\u001b[39;00m\n",
      "\u001b[0;31mKeyboardInterrupt\u001b[0m: "
     ]
    }
   ],
   "source": [
    "\n",
    "# convert images into a 1D array\n",
    "flattened_images = images.reshape(image.shape[0], -1)\n",
    "\n",
    "# normalize the pixel values,\n",
    "#      to have a range of [0, 1],\n",
    "#      standardize to have mean of 0 and s.d. of 1\n",
    "scaler = StandardScaler()\n",
    "images_normalized = scaler.fit_transform(flattened_images)\n"
   ]
  },
  {
   "cell_type": "code",
   "execution_count": 14,
   "metadata": {},
   "outputs": [],
   "source": [
    "def viewcolumn(columnvector):\n",
    "    # viewcolumn(columnvector);\n",
    "    # VIEWCOLUMN Displays a 60 x 60 grayscale image stored in a column vector.\n",
    "    # Tim Marks 2002\n",
    "    plt.imshow(columnvector.reshape([60, 60], order='F'), cmap=plt.get_cmap('gray'))\n",
    "\n",
    "\n",
    "def normc(Mat):\n",
    "    # normc(M) normalizes the columns of M to a length of 1.\n",
    "    return normalize(Mat, norm='l2', axis=0)"
   ]
  },
  {
   "cell_type": "markdown",
   "metadata": {},
   "source": [
    "Compute mean face:"
   ]
  },
  {
   "cell_type": "code",
   "execution_count": 13,
   "metadata": {},
   "outputs": [
    {
     "ename": "ValueError",
     "evalue": "cannot reshape array of size 9877 into shape (200,200)",
     "output_type": "error",
     "traceback": [
      "\u001b[0;31m---------------------------------------------------------------------------\u001b[0m",
      "\u001b[0;31mValueError\u001b[0m                                Traceback (most recent call last)",
      "Cell \u001b[0;32mIn[13], line 6\u001b[0m\n\u001b[1;32m      3\u001b[0m \u001b[38;5;66;03m# View a transformed version of mean\u001b[39;00m\n\u001b[1;32m      5\u001b[0m mean_simp \u001b[38;5;241m=\u001b[39m mean_simp[:, np\u001b[38;5;241m.\u001b[39mnewaxis]\n\u001b[0;32m----> 6\u001b[0m viewcolumn(mean_simp)\n",
      "Cell \u001b[0;32mIn[12], line 5\u001b[0m, in \u001b[0;36mviewcolumn\u001b[0;34m(columnvector)\u001b[0m\n\u001b[1;32m      1\u001b[0m \u001b[38;5;28;01mdef\u001b[39;00m \u001b[38;5;21mviewcolumn\u001b[39m(columnvector):\n\u001b[1;32m      2\u001b[0m     \u001b[38;5;66;03m# viewcolumn(columnvector);\u001b[39;00m\n\u001b[1;32m      3\u001b[0m     \u001b[38;5;66;03m# VIEWCOLUMN Displays a 60 x 60 grayscale image stored in a column vector.\u001b[39;00m\n\u001b[1;32m      4\u001b[0m     \u001b[38;5;66;03m# Tim Marks 2002\u001b[39;00m\n\u001b[0;32m----> 5\u001b[0m     plt\u001b[38;5;241m.\u001b[39mimshow(columnvector\u001b[38;5;241m.\u001b[39mreshape([\u001b[38;5;241m200\u001b[39m, \u001b[38;5;241m200\u001b[39m], order\u001b[38;5;241m=\u001b[39m\u001b[38;5;124m'\u001b[39m\u001b[38;5;124mF\u001b[39m\u001b[38;5;124m'\u001b[39m), cmap\u001b[38;5;241m=\u001b[39mplt\u001b[38;5;241m.\u001b[39mget_cmap(\u001b[38;5;124m'\u001b[39m\u001b[38;5;124mgray\u001b[39m\u001b[38;5;124m'\u001b[39m))\n",
      "\u001b[0;31mValueError\u001b[0m: cannot reshape array of size 9877 into shape (200,200)"
     ]
    }
   ],
   "source": [
    "mean_simp = np.mean(simpsons_df, axis=1)\n",
    "\n",
    "# View a transformed version of mean\n",
    "\n",
    "mean_simp = mean_simp[:, np.newaxis]\n",
    "viewcolumn(mean_simp)"
   ]
  },
  {
   "cell_type": "markdown",
   "metadata": {},
   "source": [
    "**PCA Code for Each Class**"
   ]
  },
  {
   "cell_type": "markdown",
   "metadata": {},
   "source": [
    "**Test: Reconstruct each PCA model, then measure distance between reconstruction and input**"
   ]
  },
  {
   "cell_type": "markdown",
   "metadata": {},
   "source": [
    "**Find & Discuss Lowest Distance**"
   ]
  },
  {
   "cell_type": "code",
   "execution_count": null,
   "metadata": {},
   "outputs": [],
   "source": []
  }
 ],
 "metadata": {
  "kernelspec": {
   "display_name": "Python 3",
   "language": "python",
   "name": "python3"
  },
  "language_info": {
   "codemirror_mode": {
    "name": "ipython",
    "version": 3
   },
   "file_extension": ".py",
   "mimetype": "text/x-python",
   "name": "python",
   "nbconvert_exporter": "python",
   "pygments_lexer": "ipython3",
   "version": "3.11.7"
  }
 },
 "nbformat": 4,
 "nbformat_minor": 2
}
