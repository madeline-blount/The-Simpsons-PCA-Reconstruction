{
 "cells": [
  {
   "cell_type": "markdown",
   "metadata": {
    "deletable": false,
    "editable": false,
    "nbgrader": {
     "cell_type": "markdown",
     "checksum": "126595098386ce2319267ef479195df0",
     "grade": false,
     "grade_id": "cell-cf9dad0fdec651e4",
     "locked": true,
     "schema_version": 3,
     "solution": false,
     "task": false
    }
   },
   "source": [
    "# Assignment 4: PCA\n",
    "\n",
    "In this assignment you will explore Principal Component Analysis (PCA) in two datasets: a set of 2D points and a collection of face images.\n",
    "\n",
    "There are hidden tests within this assignment to grade the accuracy of your work. <br>\n",
    "\n",
    "**PLEASE DO NOT CHANGE THE NAME OF THIS FILE OR ADD/DELETE THE CELLS.**"
   ]
  },
  {
   "cell_type": "markdown",
   "metadata": {
    "deletable": false,
    "editable": false,
    "nbgrader": {
     "cell_type": "markdown",
     "checksum": "99c7a33364e11790aa8d4c5232553e18",
     "grade": false,
     "grade_id": "cell-911e864d23ee78ee",
     "locked": true,
     "schema_version": 3,
     "solution": false,
     "task": false
    }
   },
   "source": [
    "Run the following cell to import the appropriate libraries:"
   ]
  },
  {
   "cell_type": "code",
   "execution_count": 1,
   "metadata": {
    "deletable": false,
    "editable": false,
    "nbgrader": {
     "cell_type": "code",
     "checksum": "aed423c06852d743bc57e5bb8fe79fb4",
     "grade": false,
     "grade_id": "cell-3551c07a5f0fdbf9",
     "locked": true,
     "schema_version": 3,
     "solution": false,
     "task": false
    }
   },
   "outputs": [],
   "source": [
    "import numpy as np\n",
    "import scipy.io as sio\n",
    "import matplotlib\n",
    "import matplotlib.pyplot as plt\n",
    "from numpy.matlib import repmat\n",
    "from sklearn.preprocessing import normalize"
   ]
  },
  {
   "cell_type": "markdown",
   "metadata": {
    "deletable": false,
    "editable": false,
    "nbgrader": {
     "cell_type": "markdown",
     "checksum": "ec5887b992df0db6c564cda8ee3a67db",
     "grade": false,
     "grade_id": "cell-ef440ca55a2be6a8",
     "locked": true,
     "schema_version": 3,
     "solution": false,
     "task": false
    }
   },
   "source": [
    "## PART 1: `hw4data.mat`"
   ]
  },
  {
   "cell_type": "markdown",
   "metadata": {
    "deletable": false,
    "editable": false,
    "nbgrader": {
     "cell_type": "markdown",
     "checksum": "cfc48e09ee13e9d9b49a6c52e415f1ea",
     "grade": false,
     "grade_id": "cell-df47a92e0cf8947a",
     "locked": true,
     "schema_version": 3,
     "solution": false,
     "task": false
    }
   },
   "source": [
    "For questions 1 through 3, you will work with `hw4data.mat` \n",
    "\n",
    "`hw4data.mat` is a set of 100, 2-D data vectors arranged as columns in the matrix. \n",
    "\n",
    "Run the following cell to load the data:"
   ]
  },
  {
   "cell_type": "code",
   "execution_count": 2,
   "metadata": {
    "deletable": false,
    "editable": false,
    "nbgrader": {
     "cell_type": "code",
     "checksum": "15949a4aac69d6cad6c7725ffe6f4e22",
     "grade": false,
     "grade_id": "cell-940156e636af140c",
     "locked": true,
     "schema_version": 3,
     "solution": false,
     "task": false
    }
   },
   "outputs": [],
   "source": [
    "hw4data = np.loadtxt('hw4data.mat')"
   ]
  },
  {
   "cell_type": "markdown",
   "metadata": {
    "deletable": false,
    "editable": false,
    "nbgrader": {
     "cell_type": "markdown",
     "checksum": "ef4b233c0cf23dfddad5f8e975fe7a85",
     "grade": false,
     "grade_id": "cell-0bfbb6c93822eb2e",
     "locked": true,
     "schema_version": 3,
     "solution": false,
     "task": false
    }
   },
   "source": [
    "## Q1: Data Visualization"
   ]
  },
  {
   "cell_type": "markdown",
   "metadata": {
    "deletable": false,
    "editable": false,
    "nbgrader": {
     "cell_type": "markdown",
     "checksum": "f4d5893d6bb1075fdd091ce20d00b428",
     "grade": false,
     "grade_id": "cell-619705b6cb8d9dc4",
     "locked": true,
     "schema_version": 3,
     "solution": false,
     "task": false
    }
   },
   "source": [
    "Run the following cell to make a scatterplot of the samples. Then:\n",
    "\n",
    "1. Find the sample mean using numpy.mean. Transform the returned 1D numpy array to a 2D numpy column vector and store it in `mean`. Note the mean should have shape (2, 1).\n",
    "\n",
    "2. Find the sample covariance matrix (and write it down in the document) using the formula $\\frac{1}{n}ZZ^T$ where $Z$ is the matrix of mean subtracted data points and store it in `cov`. You may not use built-in function for covariance. Check that your covariance matrix has the correct dimensionality ."
   ]
  },
  {
   "cell_type": "code",
   "execution_count": 3,
   "metadata": {
    "deletable": false,
    "nbgrader": {
     "cell_type": "code",
     "checksum": "b58a6869ea225ce1fec67f37528fc58e",
     "grade": false,
     "grade_id": "cell-012b0b0ba65aa95c",
     "locked": false,
     "schema_version": 3,
     "solution": true,
     "task": false
    }
   },
   "outputs": [
    {
     "data": {
      "image/png": "[encoded data removed]",
      "text/plain": [
       "<Figure size 640x480 with 1 Axes>"
      ]
     },
     "metadata": {},
     "output_type": "display_data"
    }
   ],
   "source": [
    "plt.scatter(hw4data[0, :], hw4data[1, :], marker='.')\n",
    "plt.title('Original Scatterplot')\n",
    "mean = np.mean(hw4data, axis=1)[:,np.newaxis]\n",
    "Z = hw4data - mean\n",
    "n = Z.shape[1]\n",
    "cov = (1/n) * (Z.dot(Z.T))\n",
    "# YOUR CODE HERE\n"
   ]
  },
  {
   "cell_type": "code",
   "execution_count": 4,
   "metadata": {
    "deletable": false,
    "editable": false,
    "nbgrader": {
     "cell_type": "code",
     "checksum": "1e47c83a11fa9803e5de95fd3a159e55",
     "grade": true,
     "grade_id": "cell-6ffb8c6ae77d249f",
     "locked": true,
     "points": 2,
     "schema_version": 3,
     "solution": false,
     "task": false
    }
   },
   "outputs": [],
   "source": [
    "assert mean.shape == (2, 1)\n",
    "assert cov.shape == (2, 2)\n"
   ]
  },
  {
   "cell_type": "markdown",
   "metadata": {
    "deletable": false,
    "editable": false,
    "nbgrader": {
     "cell_type": "markdown",
     "checksum": "66b37b48bfa3e0bae225a6379cdb65e8",
     "grade": false,
     "grade_id": "cell-fe7dce76968acbd9",
     "locked": true,
     "schema_version": 3,
     "solution": false,
     "task": false
    }
   },
   "source": [
    "## Q2: Eigenvalues and Eigenvectors"
   ]
  },
  {
   "cell_type": "markdown",
   "metadata": {
    "deletable": false,
    "editable": false,
    "nbgrader": {
     "cell_type": "markdown",
     "checksum": "ec956046248feed39fe5d56a7a103b35",
     "grade": false,
     "grade_id": "cell-8a2c199ea26ac6c0",
     "locked": true,
     "schema_version": 3,
     "solution": false,
     "task": false
    }
   },
   "source": [
    "For this part, you are provided the following `eigsort` helper function"
   ]
  },
  {
   "cell_type": "code",
   "execution_count": 5,
   "metadata": {
    "deletable": false,
    "editable": false,
    "nbgrader": {
     "cell_type": "code",
     "checksum": "a5b0024d6f6ba04577b9d2c00d7137f2",
     "grade": false,
     "grade_id": "cell-befadd765ca6504e",
     "locked": true,
     "schema_version": 3,
     "solution": false,
     "task": false
    }
   },
   "outputs": [],
   "source": [
    "def eigsort(V, eigvals):\n",
    "    # [Vsort,Dsort] = eigsort(V, eigvals)\n",
    "    #\n",
    "    # Sorts a matrix eigenvectors and a array of eigenvalues in order \n",
    "    # of eigenvalue size, largest eigenvalue first and smallest eigenvalue\n",
    "    # last.\n",
    "    #\n",
    "    # Example usage:\n",
    "    # di, V = np.linarg.eig(L)\n",
    "    # Vnew, Dnew = eigsort(V, di)\n",
    "    #\n",
    "    # Tim Marks 2002\n",
    "    \n",
    "    # Sort the eigenvalues from largest to smallest. Store the sorted\n",
    "    # eigenvalues in the column vector lambd.\n",
    "    lohival = np.sort(eigvals)\n",
    "    lohiindex = np.argsort(eigvals)\n",
    "    lambd = np.flip(lohival)\n",
    "    index = np.flip(lohiindex)\n",
    "    Dsort = np.diag(lambd)\n",
    "    \n",
    "    # Sort eigenvectors to correspond to the ordered eigenvalues. Store sorted\n",
    "    # eigenvectors as columns of the matrix vsort.\n",
    "    M = np.size(lambd)\n",
    "    Vsort = np.zeros((M, M))\n",
    "    for i in range(M):\n",
    "        Vsort[:,i] = V[:,index[i]]\n",
    "    return Vsort, Dsort"
   ]
  },
  {
   "cell_type": "markdown",
   "metadata": {
    "deletable": false,
    "editable": false,
    "nbgrader": {
     "cell_type": "markdown",
     "checksum": "61855bb5b8206721232e23ee0a9f5f64",
     "grade": false,
     "grade_id": "cell-53b9c3063fd9634f",
     "locked": true,
     "schema_version": 3,
     "solution": false,
     "task": false
    }
   },
   "source": [
    "Using the `np.linalg.eig` command, find the eigenvectors and eigenvalues of the sample covariance matrix and store them in `eigvals` and `V_old` respectively"
   ]
  },
  {
   "cell_type": "code",
   "execution_count": 6,
   "metadata": {
    "deletable": false,
    "nbgrader": {
     "cell_type": "code",
     "checksum": "31badfbb622a5000566e76dbeeef3dd4",
     "grade": false,
     "grade_id": "cell-0629177925e7bdae",
     "locked": false,
     "schema_version": 3,
     "solution": true,
     "task": false
    }
   },
   "outputs": [
    {
     "name": "stdout",
     "output_type": "stream",
     "text": [
      "[[-0.82431958 -0.56612474]\n",
      " [ 0.56612474 -0.82431958]]\n",
      "[19.17016342 67.49058962]\n"
     ]
    }
   ],
   "source": [
    "eigvals, V_old = np.linalg.eig(cov)\n",
    "\n",
    "# YOUR CODE HERE\n",
    "\n",
    "print(V_old)\n",
    "print(eigvals)"
   ]
  },
  {
   "cell_type": "code",
   "execution_count": 7,
   "metadata": {
    "deletable": false,
    "editable": false,
    "nbgrader": {
     "cell_type": "code",
     "checksum": "8f7aab60f5390a09220db13fa30b238e",
     "grade": true,
     "grade_id": "cell-6bf7813823703885",
     "locked": true,
     "points": 1,
     "schema_version": 3,
     "solution": false,
     "task": false
    }
   },
   "outputs": [],
   "source": [
    "assert eigvals.shape == (2,)\n",
    "assert V_old.shape == (2, 2)\n",
    "\n",
    "assert np.all(eigvals >= 0)\n",
    "assert np.allclose(V_old.T @ V_old, np.eye(2))\n"
   ]
  },
  {
   "cell_type": "markdown",
   "metadata": {
    "deletable": false,
    "editable": false,
    "nbgrader": {
     "cell_type": "markdown",
     "checksum": "574a7be33c2b85c4dddf6ce028dd7ff5",
     "grade": false,
     "grade_id": "cell-7f58ceb296000c77",
     "locked": true,
     "schema_version": 3,
     "solution": false,
     "task": false
    }
   },
   "source": [
    "What is the eigenvector corresponding to the largest eigenvalue?\n",
    "\n",
    "- A. $[-0.82431958 -0.56612474]^T$\n",
    "\n",
    "- B. $[0.56612474 -0.82431958]^T$"
   ]
  },
  {
   "cell_type": "code",
   "execution_count": 8,
   "metadata": {
    "deletable": false,
    "nbgrader": {
     "cell_type": "code",
     "checksum": "353c3cf530a986ed6eed3348884b02e0",
     "grade": false,
     "grade_id": "cell-4e53a9839284d4b5",
     "locked": false,
     "schema_version": 3,
     "solution": true,
     "task": false
    }
   },
   "outputs": [],
   "source": [
    "Q2_ans_1 = 'B'\n",
    "# YOUR CODE HERE\n"
   ]
  },
  {
   "cell_type": "code",
   "execution_count": 9,
   "metadata": {
    "deletable": false,
    "editable": false,
    "nbgrader": {
     "cell_type": "code",
     "checksum": "84d463f84153b5f8815fec6b9f32dff5",
     "grade": true,
     "grade_id": "cell-41b687562a98de7d",
     "locked": true,
     "points": 1,
     "schema_version": 3,
     "solution": false,
     "task": false
    }
   },
   "outputs": [],
   "source": [
    "assert Q2_ans_1 in ['A', 'B']"
   ]
  },
  {
   "cell_type": "markdown",
   "metadata": {
    "deletable": false,
    "editable": false,
    "nbgrader": {
     "cell_type": "markdown",
     "checksum": "8d0d1954065ac6e7f87b5e5668365997",
     "grade": false,
     "grade_id": "cell-f5f2a34287aee52b",
     "locked": true,
     "schema_version": 3,
     "solution": false,
     "task": false
    }
   },
   "source": [
    "What is the eigenvector corresponding to the smallest eigenvalue?\n",
    "\n",
    "- A. [-0.82431958 -0.56612474]\n",
    "\n",
    "- B. [ 0.56612474 -0.82431958]"
   ]
  },
  {
   "cell_type": "code",
   "execution_count": 10,
   "metadata": {
    "deletable": false,
    "nbgrader": {
     "cell_type": "code",
     "checksum": "c4f9439c24dfd1c405d89aa19832c00b",
     "grade": false,
     "grade_id": "cell-be8488b879e115ae",
     "locked": false,
     "schema_version": 3,
     "solution": true,
     "task": false
    }
   },
   "outputs": [],
   "source": [
    "Q2_ans_2 = 'A'\n",
    "# YOUR CODE HERE\n"
   ]
  },
  {
   "cell_type": "code",
   "execution_count": 11,
   "metadata": {
    "deletable": false,
    "editable": false,
    "nbgrader": {
     "cell_type": "code",
     "checksum": "d888ce21376419dc2caf6fbbbe1af3e0",
     "grade": true,
     "grade_id": "cell-bedba512518c5e18",
     "locked": true,
     "points": 1,
     "schema_version": 3,
     "solution": false,
     "task": false
    }
   },
   "outputs": [],
   "source": [
    "assert Q2_ans_2 in ['A', 'B']"
   ]
  },
  {
   "cell_type": "markdown",
   "metadata": {
    "deletable": false,
    "editable": false,
    "nbgrader": {
     "cell_type": "markdown",
     "checksum": "6b03962e5ab771d00d546c010e319947",
     "grade": false,
     "grade_id": "cell-c945207116a22981",
     "locked": true,
     "schema_version": 3,
     "solution": false,
     "task": false
    }
   },
   "source": [
    "Use the `eigsort` function that we provide to sort the eigenvectors and eigenvalues in order of largest\n",
    "eigenvalue to smallest eigenvalue and store them in `V` and `D` respectively. \n",
    "\n",
    "If the matrix $V_{old}$ is the eigenvectors and the array `eigvals` stores\n",
    "the eigenvalues, the syntax for eigsort is $V_{sort}, D_{sort} = eigsort(V_{old}, eigvals)$"
   ]
  },
  {
   "cell_type": "code",
   "execution_count": 12,
   "metadata": {
    "deletable": false,
    "nbgrader": {
     "cell_type": "code",
     "checksum": "8e4228ccfbd5e2b198b60ad3e7638d5a",
     "grade": false,
     "grade_id": "cell-3c4adbf199c8456d",
     "locked": false,
     "schema_version": 3,
     "solution": true,
     "task": false
    }
   },
   "outputs": [
    {
     "name": "stdout",
     "output_type": "stream",
     "text": [
      "[[-0.56612474 -0.82431958]\n",
      " [-0.82431958  0.56612474]]\n",
      "[[67.49058962  0.        ]\n",
      " [ 0.         19.17016342]]\n"
     ]
    }
   ],
   "source": [
    "V, D = eigsort(V_old, eigvals)\n",
    "# YOUR CODE HERE\n",
    "\n",
    "print(V)\n",
    "print(D)"
   ]
  },
  {
   "cell_type": "code",
   "execution_count": 13,
   "metadata": {
    "deletable": false,
    "editable": false,
    "nbgrader": {
     "cell_type": "code",
     "checksum": "7500c984a02827da2d7aa577b8e8c804",
     "grade": true,
     "grade_id": "cell-08267e74be78f70b",
     "locked": true,
     "points": 2,
     "schema_version": 3,
     "solution": false,
     "task": false
    }
   },
   "outputs": [],
   "source": [
    "assert V.shape == (2,2)\n",
    "assert D.shape == (2,2) and D[0, 1] == 0 and D[1, 0] == 0.0\n"
   ]
  },
  {
   "cell_type": "markdown",
   "metadata": {
    "deletable": false,
    "editable": false,
    "nbgrader": {
     "cell_type": "markdown",
     "checksum": "64df48121b2e3c495f16d9a619d5474b",
     "grade": false,
     "grade_id": "cell-b9dd15b5a476cbf7",
     "locked": true,
     "schema_version": 3,
     "solution": false,
     "task": false
    }
   },
   "source": [
    "Run the following cells to visualize `V_old` and `V`"
   ]
  },
  {
   "cell_type": "code",
   "execution_count": 14,
   "metadata": {
    "deletable": false,
    "editable": false,
    "nbgrader": {
     "cell_type": "code",
     "checksum": "0e677338889c3293fbf02fdec6f098c9",
     "grade": false,
     "grade_id": "cell-088e2f7bedfd3995",
     "locked": true,
     "schema_version": 3,
     "solution": false,
     "task": false
    }
   },
   "outputs": [
    {
     "data": {
      "text/plain": [
       "<matplotlib.image.AxesImage at 0x7f90a6f99210>"
      ]
     },
     "execution_count": 14,
     "metadata": {},
     "output_type": "execute_result"
    },
    {
     "data": {
      "image/png": "[encoded data removed]",
      "text/plain": [
       "<Figure size 640x480 with 1 Axes>"
      ]
     },
     "metadata": {},
     "output_type": "display_data"
    }
   ],
   "source": [
    "plt.imshow(V_old)"
   ]
  },
  {
   "cell_type": "code",
   "execution_count": 15,
   "metadata": {
    "deletable": false,
    "editable": false,
    "nbgrader": {
     "cell_type": "code",
     "checksum": "d777f847d05ae5319e373fc07c30a29f",
     "grade": false,
     "grade_id": "cell-3f40656681f97e35",
     "locked": true,
     "schema_version": 3,
     "solution": false,
     "task": false
    }
   },
   "outputs": [
    {
     "data": {
      "text/plain": [
       "<matplotlib.image.AxesImage at 0x7f90a6f41d90>"
      ]
     },
     "execution_count": 15,
     "metadata": {},
     "output_type": "execute_result"
    },
    {
     "data": {
      "image/png": "[encoded data removed]",
      "text/plain": [
       "<Figure size 640x480 with 1 Axes>"
      ]
     },
     "metadata": {},
     "output_type": "display_data"
    }
   ],
   "source": [
    "plt.imshow(V)"
   ]
  },
  {
   "cell_type": "markdown",
   "metadata": {
    "deletable": false,
    "editable": false,
    "nbgrader": {
     "cell_type": "markdown",
     "checksum": "72786cbef3d359ffc94ee9716a9e6fdf",
     "grade": false,
     "grade_id": "cell-22de165517b92372",
     "locked": true,
     "schema_version": 3,
     "solution": false,
     "task": false
    }
   },
   "source": [
    "Looking at the two graphs, which is true?\n",
    "\n",
    "- A. The rows are reordered\n",
    "- B. The columns are reordered"
   ]
  },
  {
   "cell_type": "code",
   "execution_count": 16,
   "metadata": {
    "deletable": false,
    "nbgrader": {
     "cell_type": "code",
     "checksum": "d8ca17efd6184183d7a0ba79a3b47b00",
     "grade": false,
     "grade_id": "cell-db833167b8091d48",
     "locked": false,
     "schema_version": 3,
     "solution": true,
     "task": false
    }
   },
   "outputs": [],
   "source": [
    "Q2_ans_3 = 'B'\n",
    "# YOUR CODE HERE\n"
   ]
  },
  {
   "cell_type": "code",
   "execution_count": 17,
   "metadata": {
    "deletable": false,
    "editable": false,
    "nbgrader": {
     "cell_type": "code",
     "checksum": "2638ed5f9abb913b0214b2590b181912",
     "grade": true,
     "grade_id": "cell-99c96c176d1aa008",
     "locked": true,
     "points": 1,
     "schema_version": 3,
     "solution": false,
     "task": false
    }
   },
   "outputs": [],
   "source": [
    "assert Q2_ans_3 in ['A', 'B']"
   ]
  },
  {
   "cell_type": "markdown",
   "metadata": {
    "deletable": false,
    "editable": false,
    "nbgrader": {
     "cell_type": "markdown",
     "checksum": "2f5c7329259b7aa2c014055cfe053a05",
     "grade": false,
     "grade_id": "cell-63f5200cd72ac81a",
     "locked": true,
     "schema_version": 3,
     "solution": false,
     "task": false
    }
   },
   "source": [
    "## Q3: PCA Transformation"
   ]
  },
  {
   "cell_type": "markdown",
   "metadata": {
    "deletable": false,
    "editable": false,
    "nbgrader": {
     "cell_type": "markdown",
     "checksum": "c09bdc6f265dbd90d4aa5c59a590fe6e",
     "grade": false,
     "grade_id": "cell-9fe9c7b252897dfe",
     "locked": true,
     "schema_version": 3,
     "solution": false,
     "task": false
    }
   },
   "source": [
    "The PCA transformation of a point consists of subtracting the mean and multiplying by the transpose of the matrix of eigenvectors of the covariance matrix. $c = V' \\ast (x - \\text{mean})$. This is just re-representing the point in a new data-aligned coordinate system. <br><br>\n",
    "\n",
    "Consider the point $\\begin{bmatrix}-35 \\\\ 40 \\end{bmatrix}$ in the original coordinate system. What are its coordinates in the new\n",
    "coordinate system found by PCA (i.e., what are the principal component coordinates of the point)? Store this in `new_coords`."
   ]
  },
  {
   "cell_type": "code",
   "execution_count": 18,
   "metadata": {
    "deletable": false,
    "nbgrader": {
     "cell_type": "code",
     "checksum": "e0f3dc176b5b685001ccbec90ad86233",
     "grade": false,
     "grade_id": "cell-e66f8a79b294c4da",
     "locked": false,
     "schema_version": 3,
     "solution": true,
     "task": false
    }
   },
   "outputs": [
    {
     "name": "stdout",
     "output_type": "stream",
     "text": [
      "[[14.1460219 ]\n",
      " [ 3.88404151]]\n"
     ]
    }
   ],
   "source": [
    "new_coords = V.T.dot(np.array([[-35], [40]]) - mean)\n",
    "# YOUR CODE HERE\n",
    "print(new_coords)"
   ]
  },
  {
   "cell_type": "code",
   "execution_count": 19,
   "metadata": {
    "deletable": false,
    "editable": false,
    "nbgrader": {
     "cell_type": "code",
     "checksum": "4910856e21efdc828a39d866b338d26b",
     "grade": true,
     "grade_id": "cell-1c07d886b26681d7",
     "locked": true,
     "points": 1,
     "schema_version": 3,
     "solution": false,
     "task": false
    }
   },
   "outputs": [],
   "source": [
    "assert new_coords.shape == (2,1)\n",
    "assert (10 < new_coords[0] < 20)"
   ]
  },
  {
   "cell_type": "markdown",
   "metadata": {
    "deletable": false,
    "editable": false,
    "nbgrader": {
     "cell_type": "markdown",
     "checksum": "4d5f4be6db8151227b65e96e75e43110",
     "grade": false,
     "grade_id": "cell-e620f4046695f6f9",
     "locked": true,
     "schema_version": 3,
     "solution": false,
     "task": false
    }
   },
   "source": [
    "Transform all 100 sample points with the PCA transformation and store it in `C` (you can do this with one big matrix multiplication ( $C = V' \\ast Z$ where C is a matrix with columns containing the principal component coordinates of the points, Z is a matrix with columns containing the mean subtracted data points, and V is the matrix of sorted eigenvectors) or in a loop using the equation used above)."
   ]
  },
  {
   "cell_type": "code",
   "execution_count": 20,
   "metadata": {
    "deletable": false,
    "nbgrader": {
     "cell_type": "code",
     "checksum": "2fb420bfc1eeab8edfb6683dc890b0c6",
     "grade": false,
     "grade_id": "cell-d3adb5df919eadc3",
     "locked": false,
     "schema_version": 3,
     "solution": true,
     "task": false
    }
   },
   "outputs": [
    {
     "data": {
      "text/plain": [
       "Text(0.5, 1.0, 'Transformed Scatterplot')"
      ]
     },
     "execution_count": 20,
     "metadata": {},
     "output_type": "execute_result"
    },
    {
     "data": {
      "image/png": "[encoded data removed]",
      "text/plain": [
       "<Figure size 640x480 with 1 Axes>"
      ]
     },
     "metadata": {},
     "output_type": "display_data"
    }
   ],
   "source": [
    "C = V.T.dot(Z)\n",
    "\n",
    "# YOUR CODE HERE\n",
    "plt.scatter(C[0, :], C[1, :], marker='.') # Plot points in new coordinate system\n",
    "plt.title('Transformed Scatterplot')"
   ]
  },
  {
   "cell_type": "code",
   "execution_count": 21,
   "metadata": {
    "deletable": false,
    "editable": false,
    "nbgrader": {
     "cell_type": "code",
     "checksum": "0519942a7430ac8726172b76a025663e",
     "grade": true,
     "grade_id": "cell-246ae6215117b0e4",
     "locked": true,
     "points": 1,
     "schema_version": 3,
     "solution": false,
     "task": false
    }
   },
   "outputs": [],
   "source": [
    "assert 2e-15 < C[0].mean(axis=0) < 10e-15\n",
    "assert C.shape == (2, 100)\n"
   ]
  },
  {
   "cell_type": "markdown",
   "metadata": {
    "deletable": false,
    "editable": false,
    "nbgrader": {
     "cell_type": "markdown",
     "checksum": "e0981b352927d92e6a0bf1347aa12674",
     "grade": false,
     "grade_id": "cell-5e70932681d0d1e4",
     "locked": true,
     "schema_version": 3,
     "solution": false,
     "task": false
    }
   },
   "source": [
    "How does the original scatterplot compare with the transformed scatterplot? (What kind of transformation takes you from original scatterplot to transformed scatterplot)?\n",
    "\n",
    "- A. Translation only\n",
    "- B. Rotation and Reflection\n",
    "- C. Rotation only"
   ]
  },
  {
   "cell_type": "code",
   "execution_count": 22,
   "metadata": {
    "deletable": false,
    "nbgrader": {
     "cell_type": "code",
     "checksum": "53b8ef6cb3f1a461c683f5da42bba7f6",
     "grade": false,
     "grade_id": "cell-35c75b705cc64772",
     "locked": false,
     "schema_version": 3,
     "solution": true,
     "task": false
    }
   },
   "outputs": [],
   "source": [
    "Q3_ans_1 = 'B'\n",
    "# YOUR CODE HERE\n"
   ]
  },
  {
   "cell_type": "code",
   "execution_count": 23,
   "metadata": {
    "deletable": false,
    "editable": false,
    "nbgrader": {
     "cell_type": "code",
     "checksum": "88004b1d16f597aebe365694e198306d",
     "grade": true,
     "grade_id": "cell-63632073e1ccec78",
     "locked": true,
     "points": 2,
     "schema_version": 3,
     "solution": false,
     "task": false
    }
   },
   "outputs": [],
   "source": [
    "assert Q3_ans_1 in ['A', 'B', 'C']"
   ]
  },
  {
   "cell_type": "markdown",
   "metadata": {
    "deletable": false,
    "editable": false,
    "nbgrader": {
     "cell_type": "markdown",
     "checksum": "d25431e46303f039c942a0e9f4b6add5",
     "grade": false,
     "grade_id": "cell-275f150d8e9b156e",
     "locked": true,
     "schema_version": 3,
     "solution": false,
     "task": false
    }
   },
   "source": [
    "## PART 2: `hw4bdata.mat`"
   ]
  },
  {
   "cell_type": "markdown",
   "metadata": {
    "deletable": false,
    "editable": false,
    "nbgrader": {
     "cell_type": "markdown",
     "checksum": "43a14da2ec927c63d8611bdff5adb0e9",
     "grade": false,
     "grade_id": "cell-6cdfcd3d397f6bbb",
     "locked": true,
     "schema_version": 3,
     "solution": false,
     "task": false
    }
   },
   "source": [
    "For questions 4 through 8, you will work with `hw4bdata.mat`. Run the following cell to load the data:"
   ]
  },
  {
   "cell_type": "code",
   "execution_count": 24,
   "metadata": {
    "deletable": false,
    "editable": false,
    "nbgrader": {
     "cell_type": "code",
     "checksum": "8bda45f813aa3bd1d5ca3ac9b62b56ef",
     "grade": false,
     "grade_id": "cell-943a6a73240b64ea",
     "locked": true,
     "schema_version": 3,
     "solution": false,
     "task": false
    }
   },
   "outputs": [],
   "source": [
    "hw4bdata = sio.loadmat('hw4bdata.mat')\n",
    "faces = hw4bdata['faces']\n",
    "dog = hw4bdata['dog']\n",
    "x = hw4bdata['x']"
   ]
  },
  {
   "cell_type": "markdown",
   "metadata": {
    "deletable": false,
    "editable": false,
    "nbgrader": {
     "cell_type": "markdown",
     "checksum": "77c78533206a02e4fc49178d7d3dd4e9",
     "grade": false,
     "grade_id": "cell-358406439fe84db4",
     "locked": true,
     "schema_version": 3,
     "solution": false,
     "task": false
    }
   },
   "source": [
    "The matrix faces contains 48 face images. These are images of 16 people in 3 different lighting conditions. Each column of faces is a 60x60 face image. \n",
    "\n",
    "These are the same faces that were used in Turk and Pentland’s original paper on eigenfaces and the ones used in the demo of faceexample09.m (but different than the ones in the lecture slides). Feel free to look at the faceexample09.m code posted on the website for help with the various steps below.\n",
    "\n",
    "### IMPORTANT: We use 1-based indexing in this writeup. So for example, when you are telling to view the 5th column, you might want to look at 0-based index 4"
   ]
  },
  {
   "cell_type": "markdown",
   "metadata": {
    "deletable": false,
    "editable": false,
    "nbgrader": {
     "cell_type": "markdown",
     "checksum": "841ea2a004e6acb5185d11f863b9a994",
     "grade": false,
     "grade_id": "cell-41b0fb51f75ae48b",
     "locked": true,
     "schema_version": 3,
     "solution": false,
     "task": false
    }
   },
   "source": [
    "## Q4: Calculating the Eigen-faces"
   ]
  },
  {
   "cell_type": "markdown",
   "metadata": {
    "deletable": false,
    "editable": false,
    "nbgrader": {
     "cell_type": "markdown",
     "checksum": "9a5c3c4914180bc73bbd37c79cedd94a",
     "grade": false,
     "grade_id": "cell-70f45b107606e787",
     "locked": true,
     "schema_version": 3,
     "solution": false,
     "task": false
    }
   },
   "source": [
    "For this part, you are provided with the following `viewcolumn` and `normc` helper functions:"
   ]
  },
  {
   "cell_type": "code",
   "execution_count": 25,
   "metadata": {
    "deletable": false,
    "editable": false,
    "nbgrader": {
     "cell_type": "code",
     "checksum": "405b0da783583d3d3416d8daa46d32d5",
     "grade": false,
     "grade_id": "cell-2ad2e89b397fe68f",
     "locked": true,
     "schema_version": 3,
     "solution": false,
     "task": false
    }
   },
   "outputs": [],
   "source": [
    "def viewcolumn(columnvector):\n",
    "    # viewcolumn(columnvector);\n",
    "    # VIEWCOLUMN Displays a 60 x 60 grayscale image stored in a column vector.\n",
    "    # Tim Marks 2002\n",
    "    plt.imshow(columnvector.reshape([60, 60], order='F'), cmap=plt.get_cmap('gray'))\n",
    "\n",
    "\n",
    "def normc(Mat):\n",
    "    # normc(M) normalizes the columns of M to a length of 1.\n",
    "    return normalize(Mat, norm='l2', axis=0)"
   ]
  },
  {
   "cell_type": "markdown",
   "metadata": {
    "deletable": false,
    "editable": false,
    "nbgrader": {
     "cell_type": "markdown",
     "checksum": "d87f7b382d8dc24b3eb0c38dcdf4b7de",
     "grade": false,
     "grade_id": "cell-7f23d5cf7e2a46e8",
     "locked": true,
     "schema_version": 3,
     "solution": false,
     "task": false
    }
   },
   "source": [
    "Run the following cell to use the `viewcolumn` command to view the 5th (index 4) face image, which is stored in the 5th column of the faces matrix."
   ]
  },
  {
   "cell_type": "code",
   "execution_count": 26,
   "metadata": {
    "deletable": false,
    "editable": false,
    "nbgrader": {
     "cell_type": "code",
     "checksum": "af8c4cd93d7fafbe8061383c69690fa8",
     "grade": false,
     "grade_id": "cell-024e2cd10213c8fb",
     "locked": true,
     "schema_version": 3,
     "solution": false,
     "task": false
    }
   },
   "outputs": [
    {
     "data": {
      "image/png": "[encoded data removed]",
      "text/plain": [
       "<Figure size 640x480 with 1 Axes>"
      ]
     },
     "metadata": {},
     "output_type": "display_data"
    }
   ],
   "source": [
    "viewcolumn(faces[:, 4])"
   ]
  },
  {
   "cell_type": "markdown",
   "metadata": {
    "deletable": false,
    "editable": false,
    "nbgrader": {
     "cell_type": "markdown",
     "checksum": "d4254e9e514f4b9b0cf50b1b97f3e1ae",
     "grade": false,
     "grade_id": "cell-3d7918afb9083e24",
     "locked": true,
     "schema_version": 3,
     "solution": false,
     "task": false
    }
   },
   "source": [
    "Compute the mean face (use numpy.mean) and store it in `meanface`."
   ]
  },
  {
   "cell_type": "code",
   "execution_count": 27,
   "metadata": {
    "deletable": false,
    "nbgrader": {
     "cell_type": "code",
     "checksum": "04266500006713555c26df13464c11ec",
     "grade": false,
     "grade_id": "cell-e2a55ee3ce668486",
     "locked": false,
     "schema_version": 3,
     "solution": true,
     "task": false
    }
   },
   "outputs": [
    {
     "data": {
      "image/png": "[encoded data removed]",
      "text/plain": [
       "<Figure size 640x480 with 1 Axes>"
      ]
     },
     "metadata": {},
     "output_type": "display_data"
    }
   ],
   "source": [
    "meanface = np.mean(faces, axis=1)\n",
    "\n",
    "# YOUR CODE HERE\n",
    "meanface = meanface[:, np.newaxis] #Transform the returned 1D numpy array to a 2D numpy column vector\n",
    "viewcolumn(meanface)"
   ]
  },
  {
   "cell_type": "code",
   "execution_count": 28,
   "metadata": {
    "deletable": false,
    "editable": false,
    "nbgrader": {
     "cell_type": "code",
     "checksum": "aa4fa71d4e8cc2a22cb4d37d45a4124d",
     "grade": true,
     "grade_id": "cell-330578651dc11aa2",
     "locked": true,
     "points": 1,
     "schema_version": 3,
     "solution": false,
     "task": false
    }
   },
   "outputs": [],
   "source": [
    "assert meanface.shape == (3600, 1)\n",
    "assert (0.5 < meanface[0] < 0.9)"
   ]
  },
  {
   "cell_type": "markdown",
   "metadata": {
    "deletable": false,
    "editable": false,
    "nbgrader": {
     "cell_type": "markdown",
     "checksum": "2900708f416e85e675c4918d0aa0836d",
     "grade": false,
     "grade_id": "cell-829b73752387ba80",
     "locked": true,
     "schema_version": 3,
     "solution": false,
     "task": false
    }
   },
   "source": [
    "In the following cell:\n",
    "1. Subtract the mean from all of the data (using the command numpy.matlib.repmat), and call the matrix of mean-subtracted data `A`.\n",
    "\n",
    "2. Use the eig command to compute the eigenvectors and eigenvalues of $A^TA$ and store them in `eigvals` and `V_old`. (Note: we are not computing the eigenvectors and eigenvalues of $AA^T$ directly because that is a very big matrix. See discussion of the transpose trick from class notes (related to question 6 from HW3).) Note that we have also dropped the $1/n$ term from the covariance matrix equation as it does not affect the eigenvectors (it just changes the eigenvalues, which are not used, by a factor of n).\n",
    "\n",
    "3. Use `eigsort` to sort the eigenvectors and eigenvalues in order of largest to smallest eigenvalue. Store the results in `V` and `D`.\n",
    "\n",
    "4. Use A and V to calculate `U`, the matrix of eigenfaces (the eigenvectors of $AA^T$)."
   ]
  },
  {
   "cell_type": "code",
   "execution_count": 29,
   "metadata": {
    "deletable": false,
    "nbgrader": {
     "cell_type": "code",
     "checksum": "e39e6522ac20390c9f7e0c2401d4b677",
     "grade": false,
     "grade_id": "cell-d5a44961605f67d0",
     "locked": false,
     "schema_version": 3,
     "solution": true,
     "task": false
    }
   },
   "outputs": [],
   "source": [
    "A = faces - meanface\n",
    "eigvals, V_old = np.linalg.eig(A.T.dot(A))\n",
    "V, D = eigsort(V_old, eigvals)\n",
    "U = A.dot(V)\n",
    "\n",
    "# YOUR CODE HERE"
   ]
  },
  {
   "cell_type": "code",
   "execution_count": 30,
   "metadata": {
    "deletable": false,
    "editable": false,
    "nbgrader": {
     "cell_type": "code",
     "checksum": "cc6e9a2ced0e6ed7118002c5e028e2e0",
     "grade": true,
     "grade_id": "cell-f82dd6fd7baaaa65",
     "locked": true,
     "points": 2,
     "schema_version": 3,
     "solution": false,
     "task": false
    }
   },
   "outputs": [],
   "source": [
    "assert A.shape == faces.shape\n",
    "assert np.allclose(np.mean(A, axis=1), 0, atol=1e-5)\n",
    "assert eigvals.shape == (48,)\n",
    "assert V_old.shape == (48, 48)\n",
    "assert V.shape == (48, 48)\n",
    "assert 0.01 < V[0].mean(axis=0) < 0.04\n",
    "assert D.shape == (48, 48)\n",
    "assert (700 < D[0][0] < 900)\n",
    "assert U.shape == (A.shape[0], V.shape[1])\n"
   ]
  },
  {
   "cell_type": "markdown",
   "metadata": {
    "deletable": false,
    "editable": false,
    "nbgrader": {
     "cell_type": "markdown",
     "checksum": "300064e1cecd994b645c4c475733a2cf",
     "grade": false,
     "grade_id": "cell-8594dfdd20696d61",
     "locked": true,
     "schema_version": 3,
     "solution": false,
     "task": false
    }
   },
   "source": [
    "Use `normc` that we provide to normalize the columns of U so they all have length 1. Reassign `U` to the output of `normc`."
   ]
  },
  {
   "cell_type": "code",
   "execution_count": 31,
   "metadata": {
    "deletable": false,
    "editable": false,
    "nbgrader": {
     "cell_type": "code",
     "checksum": "30d9ac2c2ae7ef4089b8341d8e0b98c4",
     "grade": false,
     "grade_id": "cell-da53aade1563d195",
     "locked": true,
     "schema_version": 3,
     "solution": false,
     "task": false
    }
   },
   "outputs": [],
   "source": [
    "U = normc(U)"
   ]
  },
  {
   "cell_type": "code",
   "execution_count": 32,
   "metadata": {
    "deletable": false,
    "editable": false,
    "nbgrader": {
     "cell_type": "code",
     "checksum": "db7639b0ef268cdcf8ee296f8065bcb9",
     "grade": true,
     "grade_id": "cell-b40a6dedc7c9c64b",
     "locked": true,
     "points": 1,
     "schema_version": 3,
     "solution": false,
     "task": false
    }
   },
   "outputs": [],
   "source": [
    "assert U.shape == (A.shape[0], V.shape[1])\n",
    "assert (-1 < U[0].mean(axis=0) < -0.001)"
   ]
  },
  {
   "cell_type": "markdown",
   "metadata": {
    "deletable": false,
    "editable": false,
    "nbgrader": {
     "cell_type": "markdown",
     "checksum": "246d3a9489120b5d21c3f934bd5435f1",
     "grade": false,
     "grade_id": "cell-8bb1d58ddf635b2e",
     "locked": true,
     "schema_version": 3,
     "solution": false,
     "task": false
    }
   },
   "source": [
    "## Q5: Calculating Face Principal Components"
   ]
  },
  {
   "cell_type": "markdown",
   "metadata": {
    "deletable": false,
    "editable": false,
    "nbgrader": {
     "cell_type": "markdown",
     "checksum": "45f58a98ba633f223bf1177654b12d0c",
     "grade": false,
     "grade_id": "cell-de2e4c36ce7420e8",
     "locked": true,
     "schema_version": 3,
     "solution": false,
     "task": false
    }
   },
   "source": [
    "Find the principal component coordinates of the 5th (index 4) face image in the data set.\n",
    "\n",
    "This is just like what you did for question 4 above: (you can do this with one big matrix multiplication ( $C = U' \\ast Z$ where C is a matrix with columns containing the principal component coordinates of the points, Z is a matrix with columns containing the mean subtracted data points, and U is the matrix of sorted eigenvectors))\n",
    "\n",
    "Call the vector of principal component coordinates `c`."
   ]
  },
  {
   "cell_type": "code",
   "execution_count": 33,
   "metadata": {
    "deletable": false,
    "nbgrader": {
     "cell_type": "code",
     "checksum": "122650f156a590c093b6bdbc32a58e81",
     "grade": false,
     "grade_id": "cell-8cadde86640353c7",
     "locked": false,
     "schema_version": 3,
     "solution": true,
     "task": false
    }
   },
   "outputs": [
    {
     "data": {
      "text/plain": [
       "((48, 1), 0.5948422171529686, (3600, 48), (3600, 1))"
      ]
     },
     "execution_count": 33,
     "metadata": {},
     "output_type": "execute_result"
    }
   ],
   "source": [
    "face4 = faces[:, 4][:, np.newaxis] - meanface\n",
    "c = U.T.dot(face4)\n",
    "# YOUR CODE HERE\n",
    "\n",
    "c.shape, c[0][0], U.shape, face4.shape"
   ]
  },
  {
   "cell_type": "code",
   "execution_count": 34,
   "metadata": {
    "deletable": false,
    "editable": false,
    "nbgrader": {
     "cell_type": "code",
     "checksum": "1a72aa685ed04b08008fd5fa4c6ef21c",
     "grade": true,
     "grade_id": "cell-dc020858626d511d",
     "locked": true,
     "points": 2,
     "schema_version": 3,
     "solution": false,
     "task": false
    }
   },
   "outputs": [],
   "source": [
    "assert c.shape == (48, 1)\n",
    "assert 0.1 < c[0][0] < 0.9"
   ]
  },
  {
   "cell_type": "markdown",
   "metadata": {
    "deletable": false,
    "editable": false,
    "nbgrader": {
     "cell_type": "markdown",
     "checksum": "0bad9a4af0eb7740e8b92ced58dc6e77",
     "grade": false,
     "grade_id": "cell-1375712646ccd811",
     "locked": true,
     "schema_version": 3,
     "solution": false,
     "task": false
    }
   },
   "source": [
    "## Q6: Reconstructing Faces"
   ]
  },
  {
   "cell_type": "markdown",
   "metadata": {
    "deletable": false,
    "editable": false,
    "nbgrader": {
     "cell_type": "markdown",
     "checksum": "c14bd90e7cb13d79b1fb8b07b54577be",
     "grade": false,
     "grade_id": "cell-75a27fbffbb010ab",
     "locked": true,
     "schema_version": 3,
     "solution": false,
     "task": false
    }
   },
   "source": [
    "Run the following cell display the 3rd (index 2) eigenface using the viewcolumn command."
   ]
  },
  {
   "cell_type": "code",
   "execution_count": 35,
   "metadata": {
    "deletable": false,
    "editable": false,
    "nbgrader": {
     "cell_type": "code",
     "checksum": "142c505725bb41f0db11a1e402d76e2b",
     "grade": false,
     "grade_id": "cell-bd4bfaee44923334",
     "locked": true,
     "schema_version": 3,
     "solution": false,
     "task": false
    }
   },
   "outputs": [
    {
     "data": {
      "image/png": "[encoded data removed]",
      "text/plain": [
       "<Figure size 640x480 with 1 Axes>"
      ]
     },
     "metadata": {},
     "output_type": "display_data"
    }
   ],
   "source": [
    "viewcolumn(U[:, 2])"
   ]
  },
  {
   "cell_type": "markdown",
   "metadata": {
    "deletable": false,
    "editable": false,
    "nbgrader": {
     "cell_type": "markdown",
     "checksum": "73c87fcb8cc1a141927834a8113ba970",
     "grade": false,
     "grade_id": "cell-370c0067b1b468f8",
     "locked": true,
     "schema_version": 3,
     "solution": false,
     "task": false
    }
   },
   "source": [
    "\n",
    "Reconstruct the 5th face using all 48 principal components, store it in `Zhat`, and view it with `viewcolumn`. (Remember that $\\hat{z} = U_{\\text{reduced}} \\ast c_{\\text{reduced}} + \\text{meanface}$\n",
    ") where $U_{\\text{reduced}}$ has as columns of the principal component\n",
    "directions that you wish to use and $c_{\\text{reduced}}$ has the corresponding principal component coordinates). (For all reconstructions, remember to add back the mean face!) (Save as hw4G2.jpg and put in the document)"
   ]
  },
  {
   "cell_type": "code",
   "execution_count": 36,
   "metadata": {
    "deletable": false,
    "nbgrader": {
     "cell_type": "code",
     "checksum": "9dcc2f908743db062a3a419a0696e72e",
     "grade": false,
     "grade_id": "cell-ca74d1395983f2e5",
     "locked": false,
     "schema_version": 3,
     "solution": true,
     "task": false
    }
   },
   "outputs": [
    {
     "data": {
      "image/png": "[encoded data removed]",
      "text/plain": [
       "<Figure size 640x480 with 1 Axes>"
      ]
     },
     "metadata": {},
     "output_type": "display_data"
    }
   ],
   "source": [
    "Zhat = U.dot(c) + meanface\n",
    "# YOUR CODE HERE\n",
    "\n",
    "viewcolumn(Zhat)"
   ]
  },
  {
   "cell_type": "code",
   "execution_count": 37,
   "metadata": {
    "deletable": false,
    "editable": false,
    "nbgrader": {
     "cell_type": "code",
     "checksum": "780cc7764232238df61df281a20b5cde",
     "grade": true,
     "grade_id": "cell-3081ee3deab980d7",
     "locked": true,
     "points": 1.5,
     "schema_version": 3,
     "solution": false,
     "task": false
    }
   },
   "outputs": [],
   "source": [
    "assert Zhat.shape == (3600, 1)\n",
    "assert (0.1 < Zhat.mean(axis=0)[0] < 0.8)"
   ]
  },
  {
   "cell_type": "markdown",
   "metadata": {
    "deletable": false,
    "editable": false,
    "nbgrader": {
     "cell_type": "markdown",
     "checksum": "381e065e6b02a6caae0eb98b857aeb3d",
     "grade": false,
     "grade_id": "cell-990b6d8b210f977b",
     "locked": true,
     "schema_version": 3,
     "solution": false,
     "task": false
    }
   },
   "source": [
    "Reconstruct the 5th face using only the first 10 principal components, store it in `Zhat_2`, and view it with `viewcolumn`. (Save as hw4G3.jpg and put in the document)"
   ]
  },
  {
   "cell_type": "code",
   "execution_count": 38,
   "metadata": {
    "deletable": false,
    "nbgrader": {
     "cell_type": "code",
     "checksum": "d05d78ed788f681bbd735775d51154fa",
     "grade": false,
     "grade_id": "cell-34730333b22c2aef",
     "locked": false,
     "schema_version": 3,
     "solution": true,
     "task": false
    }
   },
   "outputs": [
    {
     "data": {
      "image/png": "[encoded data removed]",
      "text/plain": [
       "<Figure size 640x480 with 1 Axes>"
      ]
     },
     "metadata": {},
     "output_type": "display_data"
    }
   ],
   "source": [
    "Zhat_2 = U[:,:10].dot(c[:10,]) + meanface\n",
    "# YOUR CODE HERE\n",
    "\n",
    "viewcolumn(Zhat_2)"
   ]
  },
  {
   "cell_type": "code",
   "execution_count": 39,
   "metadata": {
    "deletable": false,
    "editable": false,
    "nbgrader": {
     "cell_type": "code",
     "checksum": "311f31d23c1a3f25bd548266ae9ecec4",
     "grade": true,
     "grade_id": "cell-a53bd88e4d87bf45",
     "locked": true,
     "points": 1.5,
     "schema_version": 3,
     "solution": false,
     "task": false
    }
   },
   "outputs": [],
   "source": [
    "assert Zhat_2.shape == (3600, 1)\n",
    "assert (0.1 < Zhat_2.mean(axis=0)[0] < 0.8)"
   ]
  },
  {
   "cell_type": "markdown",
   "metadata": {
    "deletable": false,
    "editable": false,
    "nbgrader": {
     "cell_type": "markdown",
     "checksum": "855070944995390f6791ec0d4847f4a6",
     "grade": false,
     "grade_id": "cell-704376ff8c106675",
     "locked": true,
     "schema_version": 3,
     "solution": false,
     "task": false
    }
   },
   "source": [
    "## Q7: Non-face Image Projection"
   ]
  },
  {
   "cell_type": "markdown",
   "metadata": {
    "deletable": false,
    "editable": false,
    "nbgrader": {
     "cell_type": "markdown",
     "checksum": "5c0e71242fe59cca1b64c8698f6d67d1",
     "grade": false,
     "grade_id": "cell-a3d3747c3954467a",
     "locked": true,
     "schema_version": 3,
     "solution": false,
     "task": false
    }
   },
   "source": [
    "**Please complete the following for points:**\n",
    "\n",
    "Let’s explore what happens when a non-face image is projected into face space.\n",
    "1. The vector dog contains a 60x60 picture of a dog. Display the picture of the dog. "
   ]
  },
  {
   "cell_type": "code",
   "execution_count": 40,
   "metadata": {
    "deletable": false,
    "editable": false,
    "nbgrader": {
     "cell_type": "code",
     "checksum": "0894ef032d83845a51cf9e762f2699aa",
     "grade": false,
     "grade_id": "cell-989f3f1f94da9b0b",
     "locked": true,
     "schema_version": 3,
     "solution": false,
     "task": false
    }
   },
   "outputs": [
    {
     "data": {
      "image/png": "[encoded data removed]",
      "text/plain": [
       "<Figure size 640x480 with 1 Axes>"
      ]
     },
     "metadata": {},
     "output_type": "display_data"
    }
   ],
   "source": [
    "viewcolumn(dog)"
   ]
  },
  {
   "cell_type": "markdown",
   "metadata": {
    "deletable": false,
    "editable": false,
    "nbgrader": {
     "cell_type": "markdown",
     "checksum": "954cae733d2f52e0ea7e17bda3f0fea1",
     "grade": false,
     "grade_id": "cell-434765ceed6c5305",
     "locked": true,
     "schema_version": 3,
     "solution": false,
     "task": false
    }
   },
   "source": [
    "2. Using the eigenfaces you found (Do **NOT** recompute the eigenfaces), find the principal component\n",
    "coordinates of the dog image (Type the Python command into the document $c = U' \\ast (dog - meanface)$). This gives the coordinates of the dog image in the face-aligned space.\n",
    "\n",
    "3. Reconstruct the dog picture using all 48 principal components, and display the image. This is the best reconstruction of the dog image in the face space. (Remember to add back in the meanface)"
   ]
  },
  {
   "cell_type": "code",
   "execution_count": 41,
   "metadata": {
    "deletable": false,
    "nbgrader": {
     "cell_type": "code",
     "checksum": "0b174fa28aa6df2a71e46a2250fba1d6",
     "grade": false,
     "grade_id": "cell-43ef7eee5864f96a",
     "locked": false,
     "schema_version": 3,
     "solution": true,
     "task": false
    },
    "scrolled": true
   },
   "outputs": [
    {
     "data": {
      "image/png": "[encoded data removed]",
      "text/plain": [
       "<Figure size 640x480 with 1 Axes>"
      ]
     },
     "metadata": {},
     "output_type": "display_data"
    }
   ],
   "source": [
    "c = U.T.dot(dog - meanface)\n",
    "Zhat = U.dot(c) + meanface\n",
    "\n",
    "# YOUR CODE HERE\n",
    "\n",
    "viewcolumn(Zhat)"
   ]
  },
  {
   "cell_type": "code",
   "execution_count": 42,
   "metadata": {
    "deletable": false,
    "editable": false,
    "nbgrader": {
     "cell_type": "code",
     "checksum": "d5e8e11dbd786bc685a5920b3ce2abf7",
     "grade": true,
     "grade_id": "cell-648281416856dac4",
     "locked": true,
     "points": 2,
     "schema_version": 3,
     "solution": false,
     "task": false
    }
   },
   "outputs": [],
   "source": [
    "assert Zhat.shape == (3600, 1)\n",
    "assert Zhat[24, 0] > 0.8 and Zhat[24, 0] < 0.9\n",
    "assert Zhat[190, 0] > 0.7 and Zhat[190, 0] < 0.8\n",
    "assert Zhat[590, 0] > 0.3 and Zhat[590, 0] < 0.4\n"
   ]
  },
  {
   "cell_type": "markdown",
   "metadata": {
    "deletable": false,
    "editable": false,
    "nbgrader": {
     "cell_type": "markdown",
     "checksum": "f42a5be29b9c0ae50277b374a0f5ee69",
     "grade": false,
     "grade_id": "cell-edc0b519824207c0",
     "locked": true,
     "schema_version": 3,
     "solution": false,
     "task": false
    }
   },
   "source": [
    "4. Does the reconstructed dog look like the original picture? Explain why the reconstruction looks the way\n",
    "it does."
   ]
  },
  {
   "cell_type": "markdown",
   "metadata": {
    "deletable": false,
    "nbgrader": {
     "cell_type": "markdown",
     "checksum": "1fd20e350383e9c175722cb98c910527",
     "grade": true,
     "grade_id": "cell-fb44f266bc568348",
     "locked": false,
     "points": 2,
     "schema_version": 3,
     "solution": true,
     "task": false
    }
   },
   "source": [
    "YOUR ANSWER HERE: The reconstructed dog image looks more like a human face, since all the images that we build the model on was based on human faces. "
   ]
  },
  {
   "cell_type": "markdown",
   "metadata": {
    "deletable": false,
    "editable": false,
    "nbgrader": {
     "cell_type": "markdown",
     "checksum": "1f0df5d1439f022762a157b4cd5b619c",
     "grade": false,
     "grade_id": "cell-479230e0081317af",
     "locked": true,
     "schema_version": 3,
     "solution": false,
     "task": false
    }
   },
   "source": [
    "## Q8: Generalization on Excluded Faces"
   ]
  },
  {
   "cell_type": "markdown",
   "metadata": {
    "deletable": false,
    "editable": false,
    "nbgrader": {
     "cell_type": "markdown",
     "checksum": "51497d0a8e31b393de939c79bfaea338",
     "grade": false,
     "grade_id": "cell-f95392bba3ad137c",
     "locked": true,
     "schema_version": 3,
     "solution": false,
     "task": false
    }
   },
   "source": [
    "**Please complete the following tasks for points:**\n",
    "\n",
    "Columns 1–3 of faces contain the three images of person 1, columns 4–6 contain the three images of person\n",
    "2, and so on, all the way up to columns 46–48, which contain the three images of person 16. You will explore how well the face space generalizes to new people who weren’t in the data set.\n",
    "\n",
    "1. Choose one of the 16 people (3 of the 48 images) to exclude, and calculate the eigenfaces using only the\n",
    "remaining 15 people (45 images). "
   ]
  },
  {
   "cell_type": "code",
   "execution_count": 43,
   "metadata": {
    "deletable": false,
    "editable": false,
    "nbgrader": {
     "cell_type": "code",
     "checksum": "b6f912b7c75150ef42c40ed26f7c0b67",
     "grade": false,
     "grade_id": "cell-38e564286a24d3d3",
     "locked": true,
     "schema_version": 3,
     "solution": false,
     "task": false
    }
   },
   "outputs": [],
   "source": [
    "person_number_to_exclude = 1 # set this to any number from 0 to 15\n",
    "faces_to_exclude = np.s_[person_number_to_exclude*3:person_number_to_exclude*3+3]\n",
    "newfaces = np.delete(faces,faces_to_exclude,axis=1)"
   ]
  },
  {
   "cell_type": "code",
   "execution_count": 44,
   "metadata": {},
   "outputs": [],
   "source": [
    "person_number_to_exclude = 6\n",
    "faces_to_exclude = np.s_[person_number_to_exclude*3:person_number_to_exclude*3+3]\n",
    "newfaces = np.delete(faces,faces_to_exclude,axis=1)"
   ]
  },
  {
   "cell_type": "markdown",
   "metadata": {
    "deletable": false,
    "editable": false,
    "nbgrader": {
     "cell_type": "markdown",
     "checksum": "0e22e98a01c1d65a330aade091c1d60d",
     "grade": false,
     "grade_id": "cell-1dfd64bdedf89cb1",
     "locked": true,
     "schema_version": 3,
     "solution": false,
     "task": false
    }
   },
   "source": [
    "2. Choose one of the images of the excluded 16th person, and display the image."
   ]
  },
  {
   "cell_type": "code",
   "execution_count": 45,
   "metadata": {
    "deletable": false,
    "editable": false,
    "nbgrader": {
     "cell_type": "code",
     "checksum": "138aff8ee57eb44c38264dce5755446b",
     "grade": false,
     "grade_id": "cell-ac1e0b893fff2075",
     "locked": true,
     "schema_version": 3,
     "solution": false,
     "task": false
    }
   },
   "outputs": [
    {
     "data": {
      "image/png": "[encoded data removed]",
      "text/plain": [
       "<Figure size 640x480 with 1 Axes>"
      ]
     },
     "metadata": {},
     "output_type": "display_data"
    }
   ],
   "source": [
    "viewcolumn(faces[:, person_number_to_exclude*3])"
   ]
  },
  {
   "cell_type": "markdown",
   "metadata": {
    "deletable": false,
    "editable": false,
    "nbgrader": {
     "cell_type": "markdown",
     "checksum": "d2a5a276cda88b63e053710212124bcb",
     "grade": false,
     "grade_id": "cell-0882e82188440077",
     "locked": true,
     "schema_version": 3,
     "solution": false,
     "task": false
    }
   },
   "source": [
    "3. Use the eigenfaces you found in part (1) to calculate the principal components of the image you chose in\n",
    "part (2). Reconstruct the image using all 45 of its principal components, and display the output."
   ]
  },
  {
   "cell_type": "code",
   "execution_count": 48,
   "metadata": {
    "deletable": false,
    "nbgrader": {
     "cell_type": "code",
     "checksum": "cd7e6d2a6627706f62bf706802b920e4",
     "grade": false,
     "grade_id": "cell-9909391e2a9e5753",
     "locked": false,
     "schema_version": 3,
     "solution": true,
     "task": false
    }
   },
   "outputs": [],
   "source": [
    "meannewface = np.mean(newfaces, axis=1)[:,np.newaxis]\n",
    "B = faces - meannewface\n",
    "# eigvals, Vold = ...\n",
    "eigenvals, Vold = np.linalg.eig(B.T.dot(B))\n",
    "# V, D = ...\n",
    "V, D = eigsort(Vold, eigenvals)\n",
    "U = B.dot(V)\n",
    "\n",
    "# YOUR CODE HERE\n"
   ]
  },
  {
   "cell_type": "code",
   "execution_count": 52,
   "metadata": {
    "deletable": false,
    "nbgrader": {
     "cell_type": "code",
     "checksum": "a598a30bf848f2c880ab7debead0d7bf",
     "grade": false,
     "grade_id": "cell-defa82642608bbe4",
     "locked": false,
     "schema_version": 3,
     "solution": true,
     "task": false
    }
   },
   "outputs": [
    {
     "data": {
      "image/png": "[encoded data removed]",
      "text/plain": [
       "<Figure size 640x480 with 1 Axes>"
      ]
     },
     "metadata": {},
     "output_type": "display_data"
    }
   ],
   "source": [
    "U = normc(U)\n",
    "face4 = faces[:,18][:, np.newaxis] - meannewface\n",
    "c = U.T.dot(face4)\n",
    "Zhat = U.dot(c) + meannewface\n",
    "\n",
    "# YOUR CODE HERE\n",
    "\n",
    "viewcolumn(Zhat)"
   ]
  },
  {
   "cell_type": "markdown",
   "metadata": {
    "deletable": false,
    "editable": false,
    "nbgrader": {
     "cell_type": "markdown",
     "checksum": "cdfd67d8f75081845b4c354e1eccbca7",
     "grade": false,
     "grade_id": "cell-bf1eb2d1ded2b0eb",
     "locked": true,
     "schema_version": 3,
     "solution": false,
     "task": false
    }
   },
   "source": [
    "4. Based on steps (1)–(3), how well do you think the face space represents faces that were not in the\n",
    "original data set?"
   ]
  },
  {
   "cell_type": "markdown",
   "metadata": {
    "deletable": false,
    "nbgrader": {
     "cell_type": "markdown",
     "checksum": "af1e0df0a599ca6a6b3420e8c1070bc2",
     "grade": true,
     "grade_id": "cell-d15d88b3972e8853",
     "locked": false,
     "points": 2,
     "schema_version": 3,
     "solution": true,
     "task": false
    }
   },
   "source": [
    "YOUR ANSWER HERE: I think the face space represented the non-represented face well, in that I can could easily identify the constructed face as being the original face. However, the reconstructed face is in much lower quality, which makes sense because any features that are unique to this person would not be represented in the mean, and would have to be reconstructed alone with the eigenface for this person. "
   ]
  },
  {
   "cell_type": "code",
   "execution_count": null,
   "metadata": {
    "deletable": false,
    "editable": false,
    "nbgrader": {
     "cell_type": "code",
     "checksum": "1d2f88c40342cc6ac455eeaecc66b5e3",
     "grade": true,
     "grade_id": "cell-9610c23039200897",
     "locked": true,
     "points": 1,
     "schema_version": 3,
     "solution": false,
     "task": false
    }
   },
   "outputs": [],
   "source": []
  },
  {
   "cell_type": "code",
   "execution_count": null,
   "metadata": {
    "deletable": false,
    "editable": false,
    "nbgrader": {
     "cell_type": "code",
     "checksum": "c6cace0dccd052faedaf6d19139d0bf6",
     "grade": true,
     "grade_id": "cell-dfc7661c8da046d9",
     "locked": true,
     "points": 1,
     "schema_version": 3,
     "solution": false,
     "task": false
    }
   },
   "outputs": [],
   "source": []
  },
  {
   "cell_type": "markdown",
   "metadata": {
    "deletable": false,
    "editable": false,
    "nbgrader": {
     "cell_type": "markdown",
     "checksum": "15d6e2df7d8c03d99845dc5c726ee7ee",
     "grade": false,
     "grade_id": "cell-127d047afce4b7a9",
     "locked": true,
     "schema_version": 3,
     "solution": false,
     "task": false
    }
   },
   "source": [
    "## The End of HW4P!\n",
    "\n",
    "This is the end of the HW4P.\n",
    "\n",
    "Have a look back over your answers, and also make sure to `Restart Kernel And Run All Cells` from the kernel menu to double check that everything is working properly. This restarts everything and runs your code from top to bottom.\n",
    "\n",
    "Once you're happy with your work, click the disk icon to save, and submit onto DataHub. **You MUST submit all the required component to receive credit**.\n",
    "\n",
    "Note that you can submit at any time, but we grade your **most recent submission**. This means that **if you submit an updated notebook after the submission deadline, it will be marked as late**."
   ]
  }
 ],
 "metadata": {
  "kernelspec": {
   "display_name": "Python 3 (ipykernel)",
   "language": "python",
   "name": "python3"
  },
  "language_info": {
   "codemirror_mode": {
    "name": "ipython",
    "version": 3
   },
   "file_extension": ".py",
   "mimetype": "text/x-python",
   "name": "python",
   "nbconvert_exporter": "python",
   "pygments_lexer": "ipython3",
   "version": "3.11.9"
  }
 },
 "nbformat": 4,
 "nbformat_minor": 4
}
